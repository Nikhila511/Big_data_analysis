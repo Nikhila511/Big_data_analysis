{
 "cells": [
  {
   "cell_type": "markdown",
   "metadata": {},
   "source": [
    "# Harika Reddy Kumbum - 50248882"
   ]
  },
  {
   "cell_type": "markdown",
   "metadata": {},
   "source": [
    "# Sai Nikhila Muthyala - 50245184"
   ]
  },
  {
   "cell_type": "code",
   "execution_count": 4,
   "metadata": {},
   "outputs": [
    {
     "name": "stdout",
     "output_type": "stream",
     "text": [
      "Chap3 python practise!\n"
     ]
    }
   ],
   "source": [
    "print(\"Chap3 python practise!\")"
   ]
  },
  {
   "cell_type": "code",
   "execution_count": 6,
   "metadata": {},
   "outputs": [
    {
     "name": "stdout",
     "output_type": "stream",
     "text": [
      "Susan now lives in Washington\n",
      " and makes $105000.0\n",
      "Ellen now lives in Texas\n",
      " and makes $78750.0\n"
     ]
    }
   ],
   "source": [
    "#It has a data structure that describes employees of a company. It goes through the employee records, gives each one\n",
    "#a 5% raise, and updates the record with the name of the state they live in. It then\n",
    "#prints out information describing the updated employee data\n",
    "\n",
    "SALARY_RAISE_FACTOR = 0.05\n",
    "STATE_CODE_MAP = {'WA': 'Washington', 'TX': 'Texas'}\n",
    "\n",
    "def update_employee_record(rec):\n",
    " old_sal = rec['salary']\n",
    " new_sal = old_sal * (1 + SALARY_RAISE_FACTOR)\n",
    " rec['salary'] = new_sal\n",
    " state_code = rec['state_code']\n",
    " rec['state_name'] = STATE_CODE_MAP[state_code]\n",
    "\n",
    "input_data = [\n",
    " {'employee_name': 'Susan', 'salary': 100000.0,\n",
    " 'state_code': 'WA'},\n",
    " {'employee_name': 'Ellen', 'salary': 75000.0,\n",
    " 'state_code': 'TX'},\n",
    "]\n",
    "\n",
    "for rec in input_data:\n",
    " update_employee_record(rec)\n",
    " name = rec['employee_name']\n",
    " salary = rec['salary']\n",
    " state = rec['state_name']\n",
    " print(name + ' now lives in ' + state)\n",
    " print(' and makes $' + str(salary))"
   ]
  },
  {
   "cell_type": "code",
   "execution_count": 16,
   "metadata": {},
   "outputs": [
    {
     "name": "stdout",
     "output_type": "stream",
     "text": [
      "hello\n",
      "\n",
      "line 1\n",
      "line 2\n",
      "First part and \t second part\n",
      "First line\n",
      "second line\n",
      "third line\tend\n"
     ]
    }
   ],
   "source": [
    "a_string = \"hello\"\n",
    "an_empty_string = \"\"\n",
    "multi_line_string = \"\"\"line 1\n",
    "line 2\"\"\"\n",
    "print(a_string)\n",
    "print(an_empty_string)\n",
    "print(multi_line_string)\n",
    "string_with_tab = \"First part and \\t second part\"\n",
    "print(string_with_tab)\n",
    "string_new_line = \"First line\\nsecond line\\nthird line\\tend\"\n",
    "print(string_new_line)"
   ]
  },
  {
   "cell_type": "code",
   "execution_count": 18,
   "metadata": {},
   "outputs": [
    {
     "name": "stdout",
     "output_type": "stream",
     "text": [
      "a\n",
      "ata\n",
      "Intensive computing\n",
      "Data \n",
      "Data Intensive computin\n",
      "Data Intensive computi\n"
     ]
    }
   ],
   "source": [
    "word = \"Data Intensive computing\"\n",
    "print(word[1])\n",
    "print(word[1:4])\n",
    "print(word[5:])\n",
    "print(word[:5])\n",
    "print(word[:-1])\n",
    "print(word[:-2])"
   ]
  },
  {
   "cell_type": "code",
   "execution_count": 21,
   "metadata": {},
   "outputs": [
    {
     "name": "stdout",
     "output_type": "stream",
     "text": [
      "25\n"
     ]
    }
   ],
   "source": [
    "def sqr(x):\n",
    " \"This function just squares its input \"\n",
    " return x * x\n",
    "print(sqr(5))"
   ]
  },
  {
   "cell_type": "code",
   "execution_count": 22,
   "metadata": {},
   "outputs": [
    {
     "name": "stdout",
     "output_type": "stream",
     "text": [
      "list is ['a ', 'b ', 'c ']\n",
      "set is {'c ', 'a ', 'b '}\n",
      "tuple is ('a ', 'b ', 'c ')\n"
     ]
    }
   ],
   "source": [
    "my_list = [\"a \", \"b \", \"c \"]\n",
    "my_set = set(my_list)\n",
    "my_tuple = tuple(my_list)\n",
    "print(\"list is\",my_list)\n",
    "print(\"set is\",my_set)\n",
    "print(\"tuple is\",my_tuple)"
   ]
  },
  {
   "cell_type": "code",
   "execution_count": 29,
   "metadata": {},
   "outputs": [
    {
     "name": "stdout",
     "output_type": "stream",
     "text": [
      "a \n",
      "changed list ['A ', 'b ', 'c ', 'd ']\n",
      "mixed list is  ['A ', 5.7, 'B ', [1, 2, 3]]\n",
      "original list  [1, 2, 3, 4, 5, 6, 7, 8]\n",
      "squares list is  [1, 4, 9, 16, 25, 36, 49, 64]\n",
      "squares of evens  [4, 16, 36, 64]\n"
     ]
    }
   ],
   "source": [
    "my_list = [\"a \", \"b \", \"c \"]\n",
    "print(my_list[0]) # prints \"a \"\n",
    "my_list[0] = \"A \" # changes that element of the list\n",
    "my_list.append(\"d \") # adds new element to the end\n",
    "print(\"changed list\",my_list)\n",
    "# List elements can be ANYTHING\n",
    "mixed_list = [\"A \", 5.7, \"B \", [1,2,3]]\n",
    "print(\"mixed list is \",mixed_list)\n",
    "original_list = [1,2,3,4,5,6,7,8]\n",
    "print(\"original list \",original_list)\n",
    "squares = [x*x for x in original_list]\n",
    "print(\"squares list is \",squares)\n",
    "squares_of_evens = [x*x for x in original_list if x%2==0]\n",
    "print(\"squares of evens \",squares_of_evens)"
   ]
  },
  {
   "cell_type": "code",
   "execution_count": 32,
   "metadata": {},
   "outputs": [
    {
     "name": "stdout",
     "output_type": "stream",
     "text": [
      "1\n",
      "new my_dict  {'January': 'Start of the year', 'February': 2, 'March': 3}\n",
      "dict_items([('one', 1), ('two', 2)])\n"
     ]
    }
   ],
   "source": [
    "#A dictionary is a structure that takes in a key and returns a value.\n",
    "my_dict = {\"January\": 1, \"February\":2}\n",
    "print(my_dict[\"January\"]) # prints 1\n",
    "my_dict[\"March\"] = 3 # add new element\n",
    "my_dict[\"January\"] = \"Start of the year\" # overwrite old value\n",
    "print(\"new my_dict \",my_dict)\n",
    "pairs = [(\"one\",1), (\"two\",2)]\n",
    "as_dict = dict(pairs)\n",
    "same_as_pairs = as_dict.items()\n",
    "print(same_as_pairs)"
   ]
  },
  {
   "cell_type": "code",
   "execution_count": 35,
   "metadata": {},
   "outputs": [
    {
     "name": "stdout",
     "output_type": "stream",
     "text": [
      "two square  4\n",
      "2 cube  8\n",
      "lamba expression sqrd  25\n"
     ]
    }
   ],
   "source": [
    "#Functions\n",
    "def raise_pow(x, n=2):\n",
    " return pow(x,n)\n",
    "two_sqrd = raise_pow(2)\n",
    "two_cubed = raise_pow(2, n=3)\n",
    "print(\"two square \",two_sqrd)\n",
    "print(\"2 cube \",two_cubed)\n",
    "\n",
    "# Functions with 1 line as lamba expressions\n",
    "sqr = lambda x : x*x\n",
    "five_sqrd = sqr(5)\n",
    "print(\"lamba expression sqrd \",five_sqrd)"
   ]
  },
  {
   "cell_type": "code",
   "execution_count": 41,
   "metadata": {},
   "outputs": [
    {
     "name": "stdout",
     "output_type": "stream",
     "text": [
      "i is less than three\n",
      "i is still less than five\n",
      "i is still less than five\n",
      "i is still less than five\n",
      "i is still less than five\n",
      "i is still less than five\n"
     ]
    }
   ],
   "source": [
    "i = -1\n",
    "if i < 3:\n",
    " print(\"i is less than three\")\n",
    "elif i < 5: print(\"i is between 3 and 5\")\n",
    "else: print(\"i is greater than 5\")\n",
    "i = 0\n",
    "while i < 5:\n",
    " print(\"i is still less than five\")\n",
    " i = i+1"
   ]
  },
  {
   "cell_type": "code",
   "execution_count": 49,
   "metadata": {},
   "outputs": [
    {
     "name": "stdout",
     "output_type": "stream",
     "text": [
      "   age    name  age_plus_one  age_times_two  age_squared  over_30\n",
      "0   60     Bob            61            120         3600     True\n",
      "1   25    Alex            26             50          625    False\n",
      "2   33  Janice            34             66         1089     True\n",
      "toatl age is  118\n",
      "median of ages is  33.0\n",
      "df with age < 50 \n",
      "   age    name  age_plus_one  age_times_two  age_squared  over_30\n",
      "1   25    Alex            26             50          625    False\n",
      "2   33  Janice            34             66         1089     True\n"
     ]
    }
   ],
   "source": [
    "#Dataframes\n",
    "import pandas as pd\n",
    "# Making data frame from a dictionary\n",
    "# that maps column names to their values\n",
    "df = pd.DataFrame({\n",
    "\"name\": [\"Bob\", \"Alex\", \"Janice\"],\n",
    "\"age\": [60, 25, 33]\n",
    "})\n",
    "#print(df[\"name\"])\n",
    "# Making new columns from old ones\n",
    "df[\"age_plus_one\"] = df[\"age\"] + 1\n",
    "df[\"age_times_two\"] = 2 * df[\"age\"]\n",
    "df[\"age_squared\"] = df[\"age\"] * df[\"age\"]\n",
    "df[\"over_30\"] = (df[\"age\"] > 30) # this col is bools\n",
    "#print(\"booleans column \",df[\"over_30\"])\n",
    "print(df.to_string())\n",
    "# The columns have various built-in aggregate functions\n",
    "total_age = df[\"age\"].sum()\n",
    "median_age = df[\"age\"].quantile(0.5)\n",
    "print(\"toatl age is \",total_age)\n",
    "print(\"median of ages is \",median_age)\n",
    "# You can select several rows of the DataFrame\n",
    "# and make a new DataFrame out of them\n",
    "df_below50 = df[df[\"age\"] < 50]\n",
    "print(\"df with age < 50 \")\n",
    "print(df_below50.to_string())\n",
    "\n",
    "# Apply a custom function to a column\n",
    "df[\"age_squared\"] = df[\"age\"].apply(lambda x: x*x)"
   ]
  },
  {
   "cell_type": "code",
   "execution_count": 52,
   "metadata": {},
   "outputs": [
    {
     "name": "stdout",
     "output_type": "stream",
     "text": [
      "RangeIndex(start=0, stop=3, step=1)\n",
      "Index(['Bob', 'Alex', 'Jane'], dtype='object', name='name')\n",
      "60\n"
     ]
    }
   ],
   "source": [
    "#using column names as index\n",
    "df = pd.DataFrame({\n",
    "\"name\": [\"Bob\", \"Alex\", \"Jane\"],\n",
    "\"age\": [60, 25, 33]\n",
    "})\n",
    "print(df.index) # prints 0‐2, the line numbers\n",
    "# Create a DataFrame containing the same data,\n",
    "# but where name is the index\n",
    "df_w_name_as_ind = df.set_index(\"name\")\n",
    "print(df_w_name_as_ind.index) # prints their names\n",
    "# Get the row for Bob\n",
    "bobs_row = df_w_name_as_ind.loc[\"Bob\"]\n",
    "print(bobs_row[\"age\"]) # prints 60"
   ]
  },
  {
   "cell_type": "code",
   "execution_count": 54,
   "metadata": {},
   "outputs": [
    {
     "name": "stdout",
     "output_type": "stream",
     "text": [
      "        age  height\n",
      "name               \n",
      "Tom      60     6.2\n",
      "Tyrell   25     4.0\n",
      "Claire   33     5.5\n",
      "     name  age  height\n",
      "0     Tom   60     6.2\n",
      "1  Tyrell   25     4.0\n",
      "2  Claire   33     5.5\n"
     ]
    }
   ],
   "source": [
    "df_w_age = pd.DataFrame({\n",
    "\"name\": [\"Tom\", \"Tyrell\", \"Claire\"],\n",
    "\"age\": [60, 25, 33]\n",
    "})\n",
    "df_w_height = pd.DataFrame({\n",
    "\"name\": [\"Tom\", \"Tyrell\", \"Claire\"],\n",
    "\"height\": [6.2, 4.0, 5.5]\n",
    "})\n",
    "joined = df_w_age.set_index(\"name\").join(df_w_height.set_index(\"name\"))\n",
    "print(joined)\n",
    "print(joined.reset_index())"
   ]
  },
  {
   "cell_type": "code",
   "execution_count": 56,
   "metadata": {},
   "outputs": [
    {
     "name": "stdout",
     "output_type": "stream",
     "text": [
      "         age  height\n",
      "gender              \n",
      "F       33.0     5.5\n",
      "M       42.5     5.1\n",
      "        mean_height    name  oldest\n",
      "gender                             \n",
      "F               5.5  Claire      33\n",
      "M               5.1  Tyrell      60\n"
     ]
    }
   ],
   "source": [
    "df = pd.DataFrame({\n",
    "\"name\": [\"Tom\", \"Tyrell\", \"Claire\"],\n",
    "\"age\": [60, 25, 33],\n",
    "\"height\": [6.2, 4.0, 5.5],\n",
    "    \"gender\": [\"M\", \"M\", \"F\"]\n",
    "})\n",
    "print(df.groupby(\"gender\").mean())\n",
    "medians = df.groupby(\"gender\").quantile(0.5)\n",
    "# Use a custom aggregation function\n",
    "def agg(ddf):\n",
    " return pd.Series({\n",
    " \"name\": max(ddf[\"name\"]),\n",
    " \"oldest\": max(ddf[\"age\"]),\n",
    " \"mean_height\": ddf[\"height\"].mean()\n",
    " })\n",
    "print(df.groupby(\"gender\").apply(agg))"
   ]
  },
  {
   "cell_type": "code",
   "execution_count": null,
   "metadata": {},
   "outputs": [],
   "source": []
  }
 ],
 "metadata": {
  "kernelspec": {
   "display_name": "Python 3",
   "language": "python",
   "name": "python3"
  },
  "language_info": {
   "codemirror_mode": {
    "name": "ipython",
    "version": 3
   },
   "file_extension": ".py",
   "mimetype": "text/x-python",
   "name": "python",
   "nbconvert_exporter": "python",
   "pygments_lexer": "ipython3",
   "version": "3.6.4"
  }
 },
 "nbformat": 4,
 "nbformat_minor": 2
}
